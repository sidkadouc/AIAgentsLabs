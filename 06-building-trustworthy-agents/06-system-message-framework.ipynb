{
 "cells": [
  {
   "cell_type": "code",
   "execution_count": null,
   "metadata": {},
   "outputs": [],
   "source": [
    "import os\n",
    "from azure.ai.inference import ChatCompletionsClient\n",
    "from azure.ai.inference.models import SystemMessage, UserMessage\n",
    "from azure.core.credentials import AzureKeyCredential\n",
    "\n",
    "token = os.environ[\"GITHUB_TOKEN\"]\n",
    "endpoint = \"https://models.inference.ai.azure.com\""
   ]
  },
  {
   "cell_type": "code",
   "execution_count": null,
   "metadata": {},
   "outputs": [],
   "source": [
    "model_name = \"gpt-4o\"\n",
    "\n",
    "client = ChatCompletionsClient(\n",
    "    endpoint=endpoint,\n",
    "    credential=AzureKeyCredential(token),\n",
    ")"
   ]
  },
  {
   "cell_type": "code",
   "execution_count": null,
   "metadata": {},
   "outputs": [],
   "source": [
    "role = \"travel agent\"\n",
    "company = \"contoso travel\"\n",
    "responsibility = \"booking flights\""
   ]
  },
  {
   "cell_type": "code",
   "execution_count": null,
   "metadata": {},
   "outputs": [],
   "source": [
    "response = client.complete(\n",
    "    messages=[\n",
    "        SystemMessage(content=\"\"\"You are an expert at creating AI agent assitants. \n",
    "You will be provided a company name, role, responsibilites and other\n",
    "information that you will use to provide a system prompt for.\n",
    "To create the system prompt, be descriptive as possible and provide a structure that a system using an LLM can better understand the role and responsibilites of the AI assistant.\"\"\"),\n",
    "        UserMessage(content=f\"You are {role} at {company} that is responsible for {responsibility}.\"),\n",
    "    ],\n",
    "    model=model_name,\n",
    "    # Optional parameters\n",
    "    temperature=1.,\n",
    "    max_tokens=1000,\n",
    "    top_p=1.\n",
    ")\n",
    "\n",
    "print(response.choices[0].message.content)"
   ]
  },
  {
   "cell_type": "code",
   "execution_count": 13,
   "metadata": {},
   "outputs": [],
   "source": [
    "import os\n",
    "import json\n",
    "\n",
    "import requests\n",
    "from autogen_agentchat.agents import AssistantAgent, UserProxyAgent\n",
    "from autogen_agentchat.conditions import TextMentionTermination\n",
    "from autogen_agentchat.teams import RoundRobinGroupChat\n",
    "from autogen_core.models import UserMessage\n",
    "from autogen_ext.models.azure import AzureAIChatCompletionClient\n",
    "from azure.core.credentials import AzureKeyCredential\n",
    "from autogen_core import CancellationToken\n",
    "from autogen_core.tools import FunctionTool\n",
    "from autogen_agentchat.messages import TextMessage\n",
    "from autogen_agentchat.ui import Console\n",
    "from typing import Any, Callable, Set, Dict, List, Optional"
   ]
  },
  {
   "cell_type": "markdown",
   "metadata": {},
   "source": []
  },
  {
   "cell_type": "code",
   "execution_count": 15,
   "metadata": {},
   "outputs": [
    {
     "name": "stdout",
     "output_type": "stream",
     "text": [
      "---------- user ----------\n",
      "Write a 4-line poem about the ocean.\n",
      "---------- assistant ----------\n",
      "Beneath the waves, where secrets lie,  \n",
      "A realm of blue touches the sky.  \n",
      "Whispers of the tide in gentle sway,  \n",
      "The ocean’s heart calls us to play.  \n",
      "---------- user_proxy ----------\n",
      "ocean 11\n",
      "---------- assistant ----------\n",
      "\"Ocean's Eleven\" is a popular heist film released in 2001, directed by Steven Soderbergh. It features an ensemble cast, including George Clooney, Brad Pitt, Matt Damon, and Julia Roberts. The plot revolves around Danny Ocean (played by Clooney) and his team of eleven skilled con artists who plan an elaborate heist to rob three Las Vegas casinos simultaneously.\n",
      "\n",
      "The film is known for its stylish direction, clever dialogue, and the chemistry among the cast members. If you're looking to explore similar themes or want to know more about the film's sequels, just let me know!\n",
      "---------- user_proxy ----------\n",
      "no\n",
      "---------- assistant ----------\n",
      "I apologize for any misunderstanding! If you meant something else by \"ocean 11,\" please clarify, and I'll be happy to assist you with the information you're looking for.\n",
      "---------- user_proxy ----------\n",
      "Approve\n",
      "---------- assistant ----------\n",
      "It seems like you're looking for approval or confirmation regarding something, but I may need a bit more context to provide the best response. Could you please clarify what you would like to approve or discuss?\n",
      "---------- user_proxy ----------\n",
      "APPROVE\n"
     ]
    },
    {
     "data": {
      "text/plain": [
       "TaskResult(messages=[TextMessage(source='user', models_usage=None, content='Write a 4-line poem about the ocean.', type='TextMessage'), TextMessage(source='assistant', models_usage=RequestUsage(prompt_tokens=33, completion_tokens=41), content='Beneath the waves, where secrets lie,  \\nA realm of blue touches the sky.  \\nWhispers of the tide in gentle sway,  \\nThe ocean’s heart calls us to play.  ', type='TextMessage'), UserInputRequestedEvent(source='user_proxy', models_usage=None, request_id='8e7a47d1-a6a7-41b1-a97e-67f49055b52b', content='', type='UserInputRequestedEvent'), TextMessage(source='user_proxy', models_usage=None, content='ocean 11', type='TextMessage'), TextMessage(source='assistant', models_usage=RequestUsage(prompt_tokens=85, completion_tokens=125), content='\"Ocean\\'s Eleven\" is a popular heist film released in 2001, directed by Steven Soderbergh. It features an ensemble cast, including George Clooney, Brad Pitt, Matt Damon, and Julia Roberts. The plot revolves around Danny Ocean (played by Clooney) and his team of eleven skilled con artists who plan an elaborate heist to rob three Las Vegas casinos simultaneously.\\n\\nThe film is known for its stylish direction, clever dialogue, and the chemistry among the cast members. If you\\'re looking to explore similar themes or want to know more about the film\\'s sequels, just let me know!', type='TextMessage'), UserInputRequestedEvent(source='user_proxy', models_usage=None, request_id='dd9f56dd-19c6-4c77-9fdb-8089c68c2960', content='', type='UserInputRequestedEvent'), TextMessage(source='user_proxy', models_usage=None, content='no', type='TextMessage'), TextMessage(source='assistant', models_usage=RequestUsage(prompt_tokens=218, completion_tokens=36), content='I apologize for any misunderstanding! If you meant something else by \"ocean 11,\" please clarify, and I\\'ll be happy to assist you with the information you\\'re looking for.', type='TextMessage'), UserInputRequestedEvent(source='user_proxy', models_usage=None, request_id='b295602f-9999-45db-8023-e20a25c84ffa', content='', type='UserInputRequestedEvent'), TextMessage(source='user_proxy', models_usage=None, content='Approve', type='TextMessage'), TextMessage(source='assistant', models_usage=RequestUsage(prompt_tokens=262, completion_tokens=40), content=\"It seems like you're looking for approval or confirmation regarding something, but I may need a bit more context to provide the best response. Could you please clarify what you would like to approve or discuss?\", type='TextMessage'), UserInputRequestedEvent(source='user_proxy', models_usage=None, request_id='50546315-1d6c-4c06-be63-d8c788de8523', content='', type='UserInputRequestedEvent'), TextMessage(source='user_proxy', models_usage=None, content='APPROVE', type='TextMessage')], stop_reason=\"Text 'APPROVE' mentioned\")"
      ]
     },
     "execution_count": 15,
     "metadata": {},
     "output_type": "execute_result"
    }
   ],
   "source": [
    "\n",
    "# Create the agents.\n",
    "client = AzureAIChatCompletionClient(\n",
    "    model=\"gpt-4o-mini\",\n",
    "    endpoint=\"https://models.inference.ai.azure.com\",\n",
    "    # To authenticate with the model you will need to generate a personal access token (PAT) in your GitHub settings.\n",
    "    # Create your PAT token by following instructions here: https://docs.github.com/en/authentication/keeping-your-account-and-data-secure/managing-your-personal-access-tokens\n",
    "    credential=AzureKeyCredential(os.environ[\"GITHUB_TOKEN\"]),\n",
    "    model_info={\n",
    "        \"json_output\": True,\n",
    "        \"function_calling\": True,\n",
    "        \"vision\": True,\n",
    "        \"family\": \"unknown\",\n",
    "    },\n",
    ")\n",
    "assistant = AssistantAgent(\n",
    "    name=\"assistant\",\n",
    "    model_client=client,\n",
    "    system_message=\"You are a travel agent that helps users find vacation destinations.\",\n",
    "    reflect_on_tool_use=False,\n",
    ")\n",
    "user_proxy = UserProxyAgent(\"user_proxy\", input_func=input)  # Use input() to get user input from console.\n",
    "\n",
    "# Create the termination condition which will end the conversation when the user says \"APPROVE\".\n",
    "termination = TextMentionTermination(\"APPROVE\")\n",
    "\n",
    "# Create the team.\n",
    "team = RoundRobinGroupChat([assistant, user_proxy], termination_condition=termination)\n",
    "\n",
    "# Run the conversation and stream to the console.\n",
    "stream = team.run_stream(task=\"Write a 4-line poem about the ocean.\")\n",
    "# Use asyncio.run(...) when running in a script.\n",
    "await Console(stream)"
   ]
  }
 ],
 "metadata": {
  "kernelspec": {
   "display_name": "Python 3",
   "language": "python",
   "name": "python3"
  },
  "language_info": {
   "codemirror_mode": {
    "name": "ipython",
    "version": 3
   },
   "file_extension": ".py",
   "mimetype": "text/x-python",
   "name": "python",
   "nbconvert_exporter": "python",
   "pygments_lexer": "ipython3",
   "version": "3.12.1"
  }
 },
 "nbformat": 4,
 "nbformat_minor": 2
}
